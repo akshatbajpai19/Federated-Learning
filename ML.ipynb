{
  "cells": [
    {
      "cell_type": "code",
      "execution_count": 1,
      "metadata": {
        "id": "vAvSG-Xfc2jx"
      },
      "outputs": [],
      "source": [
        "from google.colab import drive\n",
        "import torch\n",
        "import torch.nn as nn\n",
        "import torch.optim as optim\n",
        "import torch.nn.functional as F\n",
        "from torch.utils.data import DataLoader, Dataset\n",
        "from torchvision import datasets, transforms, models\n",
        "from torch.autograd import Variable\n",
        "import copy\n",
        "import numpy as np\n",
        "from PIL import Image\n",
        "from PIL import ImageFilter\n",
        "from tqdm import tqdm\n",
        "from sklearn.metrics import accuracy_score, confusion_matrix"
      ]
    },
    {
      "cell_type": "code",
      "execution_count": 2,
      "metadata": {
        "colab": {
          "base_uri": "https://localhost:8080/"
        },
        "id": "J__KH76kc7yY",
        "outputId": "efbdccd4-faea-4da0-f153-d82cd1a29c19"
      },
      "outputs": [
        {
          "output_type": "stream",
          "name": "stdout",
          "text": [
            "Mounted at /content/drive\n"
          ]
        }
      ],
      "source": [
        "drive.mount('/content/drive')\n",
        "transform = transforms.Compose([transforms.Resize((256,256)),\n",
        "                                transforms.ToTensor(),\n",
        "                                transforms.Normalize((0.5, 0.5, 0.5), (0.5, 0.5, 0.5))\n",
        "                                ])"
      ]
    },
    {
      "cell_type": "code",
      "execution_count": 3,
      "metadata": {
        "id": "ld_gg3bi0uVP",
        "colab": {
          "base_uri": "https://localhost:8080/"
        },
        "outputId": "b49a6454-a32f-4d2a-b886-30e024fad2db"
      },
      "outputs": [
        {
          "output_type": "stream",
          "name": "stdout",
          "text": [
            "Archive:  /content/drive/MyDrive/Data.zip\n",
            "   creating: Data/Test/\n",
            "   creating: Data/Test/Mask/\n",
            "  inflating: Data/Test/Mask/350.jpg  \n",
            "  inflating: Data/Test/Mask/351.jpg  \n",
            "  inflating: Data/Test/Mask/352.jpg  \n",
            "  inflating: Data/Test/Mask/353.jpg  \n",
            "  inflating: Data/Test/Mask/354.jpg  \n",
            "  inflating: Data/Test/Mask/355.jpg  \n",
            "  inflating: Data/Test/Mask/356.jpg  \n",
            "  inflating: Data/Test/Mask/357.jpg  \n",
            "  inflating: Data/Test/Mask/358.jpg  \n",
            "  inflating: Data/Test/Mask/359.jpg  \n",
            "  inflating: Data/Test/Mask/360.jpg  \n",
            "  inflating: Data/Test/Mask/361.jpg  \n",
            "  inflating: Data/Test/Mask/362.jpg  \n",
            "  inflating: Data/Test/Mask/363.jpg  \n",
            "  inflating: Data/Test/Mask/364.jpg  \n",
            "  inflating: Data/Test/Mask/365.jpg  \n",
            "  inflating: Data/Test/Mask/366.jpg  \n",
            "  inflating: Data/Test/Mask/367.jpg  \n",
            "  inflating: Data/Test/Mask/368.jpg  \n",
            "  inflating: Data/Test/Mask/369.jpg  \n",
            "  inflating: Data/Test/Mask/370.jpg  \n",
            "  inflating: Data/Test/Mask/371.jpg  \n",
            "  inflating: Data/Test/Mask/372.jpg  \n",
            "  inflating: Data/Test/Mask/373.jpg  \n",
            "  inflating: Data/Test/Mask/374.jpg  \n",
            "  inflating: Data/Test/Mask/375.jpg  \n",
            "  inflating: Data/Test/Mask/376.jpg  \n",
            "  inflating: Data/Test/Mask/377.jpg  \n",
            "  inflating: Data/Test/Mask/378.jpg  \n",
            "  inflating: Data/Test/Mask/379.jpg  \n",
            "  inflating: Data/Test/Mask/380.jpg  \n",
            "  inflating: Data/Test/Mask/381.jpg  \n",
            "  inflating: Data/Test/Mask/382.jpg  \n",
            "  inflating: Data/Test/Mask/383.jpg  \n",
            "  inflating: Data/Test/Mask/384.jpg  \n",
            "  inflating: Data/Test/Mask/385.jpg  \n",
            "  inflating: Data/Test/Mask/386.jpg  \n",
            "  inflating: Data/Test/Mask/387.jpg  \n",
            "  inflating: Data/Test/Mask/388.jpg  \n",
            "  inflating: Data/Test/Mask/389.jpg  \n",
            "  inflating: Data/Test/Mask/390.jpg  \n",
            "  inflating: Data/Test/Mask/391.jpg  \n",
            "  inflating: Data/Test/Mask/392.jpg  \n",
            "  inflating: Data/Test/Mask/393.jpg  \n",
            "  inflating: Data/Test/Mask/394.jpg  \n",
            "  inflating: Data/Test/Mask/395.jpg  \n",
            "  inflating: Data/Test/Mask/396.jpg  \n",
            "  inflating: Data/Test/Mask/397.jpg  \n",
            "  inflating: Data/Test/Mask/398.jpg  \n",
            "  inflating: Data/Test/Mask/399.jpg  \n",
            "  inflating: Data/Test/Mask/400.jpg  \n",
            "  inflating: Data/Test/Mask/401.jpg  \n",
            "  inflating: Data/Test/Mask/402.jpg  \n",
            "  inflating: Data/Test/Mask/403.jpg  \n",
            "  inflating: Data/Test/Mask/404.jpg  \n",
            "  inflating: Data/Test/Mask/405.jpg  \n",
            "  inflating: Data/Test/Mask/406.jpg  \n",
            "  inflating: Data/Test/Mask/407.jpg  \n",
            "   creating: Data/Test/Unmask/\n",
            "  inflating: Data/Test/Unmask/758.jpg  \n",
            "  inflating: Data/Test/Unmask/759.jpg  \n",
            "  inflating: Data/Test/Unmask/760.jpg  \n",
            "  inflating: Data/Test/Unmask/761.jpg  \n",
            "  inflating: Data/Test/Unmask/762.jpg  \n",
            "  inflating: Data/Test/Unmask/763.jpg  \n",
            "  inflating: Data/Test/Unmask/764.jpg  \n",
            "  inflating: Data/Test/Unmask/765.jpg  \n",
            "  inflating: Data/Test/Unmask/766.jpg  \n",
            "  inflating: Data/Test/Unmask/767.jpg  \n",
            "  inflating: Data/Test/Unmask/768.jpg  \n",
            "  inflating: Data/Test/Unmask/769.jpg  \n",
            "  inflating: Data/Test/Unmask/770.jpg  \n",
            "  inflating: Data/Test/Unmask/771.jpg  \n",
            "  inflating: Data/Test/Unmask/772.jpg  \n",
            "  inflating: Data/Test/Unmask/773.jpg  \n",
            "  inflating: Data/Test/Unmask/774.jpg  \n",
            "  inflating: Data/Test/Unmask/775.jpg  \n",
            "  inflating: Data/Test/Unmask/776.jpg  \n",
            "  inflating: Data/Test/Unmask/777.jpg  \n",
            "  inflating: Data/Test/Unmask/778.jpg  \n",
            "  inflating: Data/Test/Unmask/779.jpg  \n",
            "  inflating: Data/Test/Unmask/780.jpg  \n",
            "  inflating: Data/Test/Unmask/781.jpg  \n",
            "  inflating: Data/Test/Unmask/782.jpg  \n",
            "  inflating: Data/Test/Unmask/783.jpg  \n",
            "  inflating: Data/Test/Unmask/784.jpg  \n",
            "  inflating: Data/Test/Unmask/785.jpg  \n",
            "  inflating: Data/Test/Unmask/786.jpg  \n",
            "  inflating: Data/Test/Unmask/787.jpg  \n",
            "  inflating: Data/Test/Unmask/788.jpg  \n",
            "  inflating: Data/Test/Unmask/789.jpg  \n",
            "  inflating: Data/Test/Unmask/790.jpg  \n",
            "  inflating: Data/Test/Unmask/791.jpg  \n",
            "  inflating: Data/Test/Unmask/792.jpg  \n",
            "  inflating: Data/Test/Unmask/793.jpg  \n",
            "  inflating: Data/Test/Unmask/794.jpg  \n",
            "  inflating: Data/Test/Unmask/795.jpg  \n",
            "  inflating: Data/Test/Unmask/796.jpg  \n",
            "  inflating: Data/Test/Unmask/797.jpg  \n",
            "  inflating: Data/Test/Unmask/798.jpg  \n",
            "  inflating: Data/Test/Unmask/799.jpg  \n",
            "  inflating: Data/Test/Unmask/800.jpg  \n",
            "  inflating: Data/Test/Unmask/801.jpg  \n",
            "  inflating: Data/Test/Unmask/802.jpg  \n",
            "  inflating: Data/Test/Unmask/803.jpg  \n",
            "  inflating: Data/Test/Unmask/804.jpg  \n",
            "  inflating: Data/Test/Unmask/805.jpg  \n",
            "  inflating: Data/Test/Unmask/806.jpg  \n",
            "  inflating: Data/Test/Unmask/807.jpg  \n",
            "  inflating: Data/Test/Unmask/808.jpg  \n",
            "  inflating: Data/Test/Unmask/809.jpg  \n",
            "  inflating: Data/Test/Unmask/810.jpg  \n",
            "  inflating: Data/Test/Unmask/811.jpg  \n",
            "  inflating: Data/Test/Unmask/812.jpg  \n",
            "  inflating: Data/Test/Unmask/813.jpg  \n",
            "  inflating: Data/Test/Unmask/814.jpg  \n",
            "  inflating: Data/Test/Unmask/815.jpg  \n",
            "   creating: Data/Train/\n",
            "   creating: Data/Train/Mask/\n",
            "  inflating: Data/Train/Mask/0.jpg   \n",
            "  inflating: Data/Train/Mask/1.jpg   \n",
            "  inflating: Data/Train/Mask/10.jpg  \n",
            "  inflating: Data/Train/Mask/100.jpg  \n",
            "  inflating: Data/Train/Mask/101.jpg  \n",
            "  inflating: Data/Train/Mask/102.jpg  \n",
            "  inflating: Data/Train/Mask/103.jpg  \n",
            "  inflating: Data/Train/Mask/104.jpg  \n",
            "  inflating: Data/Train/Mask/105.jpg  \n",
            "  inflating: Data/Train/Mask/106.jpg  \n",
            "  inflating: Data/Train/Mask/107.jpg  \n",
            "  inflating: Data/Train/Mask/108.jpg  \n",
            "  inflating: Data/Train/Mask/109.jpg  \n",
            "  inflating: Data/Train/Mask/11.jpg  \n",
            "  inflating: Data/Train/Mask/110.jpg  \n",
            "  inflating: Data/Train/Mask/111.jpg  \n",
            "  inflating: Data/Train/Mask/112.jpg  \n",
            "  inflating: Data/Train/Mask/113.jpg  \n",
            "  inflating: Data/Train/Mask/114.jpg  \n",
            "  inflating: Data/Train/Mask/115.jpg  \n",
            "  inflating: Data/Train/Mask/116.jpg  \n",
            "  inflating: Data/Train/Mask/117.jpg  \n",
            "  inflating: Data/Train/Mask/118.jpg  \n",
            "  inflating: Data/Train/Mask/119.jpg  \n",
            "  inflating: Data/Train/Mask/12.jpg  \n",
            "  inflating: Data/Train/Mask/120.jpg  \n",
            "  inflating: Data/Train/Mask/121.jpg  \n",
            "  inflating: Data/Train/Mask/122.jpg  \n",
            "  inflating: Data/Train/Mask/123.jpg  \n",
            "  inflating: Data/Train/Mask/124.jpg  \n",
            "  inflating: Data/Train/Mask/125.jpg  \n",
            "  inflating: Data/Train/Mask/126.jpg  \n",
            "  inflating: Data/Train/Mask/127.jpg  \n",
            "  inflating: Data/Train/Mask/128.jpg  \n",
            "  inflating: Data/Train/Mask/129.jpg  \n",
            "  inflating: Data/Train/Mask/13.jpg  \n",
            "  inflating: Data/Train/Mask/130.jpg  \n",
            "  inflating: Data/Train/Mask/131.jpg  \n",
            "  inflating: Data/Train/Mask/132.jpg  \n",
            "  inflating: Data/Train/Mask/133.jpg  \n",
            "  inflating: Data/Train/Mask/134.jpg  \n",
            "  inflating: Data/Train/Mask/135.jpg  \n",
            "  inflating: Data/Train/Mask/136.jpg  \n",
            "  inflating: Data/Train/Mask/137.jpg  \n",
            "  inflating: Data/Train/Mask/138.jpg  \n",
            "  inflating: Data/Train/Mask/139.jpg  \n",
            "  inflating: Data/Train/Mask/14.jpg  \n",
            "  inflating: Data/Train/Mask/140.jpg  \n",
            "  inflating: Data/Train/Mask/141.jpg  \n",
            "  inflating: Data/Train/Mask/142.jpg  \n",
            "  inflating: Data/Train/Mask/143.jpg  \n",
            "  inflating: Data/Train/Mask/144.jpg  \n",
            "  inflating: Data/Train/Mask/145.jpg  \n",
            "  inflating: Data/Train/Mask/146.jpg  \n",
            "  inflating: Data/Train/Mask/147.jpg  \n",
            "  inflating: Data/Train/Mask/148.jpg  \n",
            "  inflating: Data/Train/Mask/149.jpg  \n",
            "  inflating: Data/Train/Mask/15.jpg  \n",
            "  inflating: Data/Train/Mask/150.jpg  \n",
            "  inflating: Data/Train/Mask/151.jpg  \n",
            "  inflating: Data/Train/Mask/152.jpg  \n",
            "  inflating: Data/Train/Mask/153.jpg  \n",
            "  inflating: Data/Train/Mask/154.jpg  \n",
            "  inflating: Data/Train/Mask/155.jpg  \n",
            "  inflating: Data/Train/Mask/156.jpg  \n",
            "  inflating: Data/Train/Mask/157.jpg  \n",
            "  inflating: Data/Train/Mask/158.jpg  \n",
            "  inflating: Data/Train/Mask/159.jpg  \n",
            "  inflating: Data/Train/Mask/16.jpg  \n",
            "  inflating: Data/Train/Mask/160.jpg  \n",
            "  inflating: Data/Train/Mask/161.jpg  \n",
            "  inflating: Data/Train/Mask/162.jpg  \n",
            "  inflating: Data/Train/Mask/163.jpg  \n",
            "  inflating: Data/Train/Mask/164.jpg  \n",
            "  inflating: Data/Train/Mask/165.jpg  \n",
            "  inflating: Data/Train/Mask/166.jpg  \n",
            "  inflating: Data/Train/Mask/167.jpg  \n",
            "  inflating: Data/Train/Mask/168.jpg  \n",
            "  inflating: Data/Train/Mask/169.jpg  \n",
            "  inflating: Data/Train/Mask/17.jpg  \n",
            "  inflating: Data/Train/Mask/170.jpg  \n",
            "  inflating: Data/Train/Mask/171.jpg  \n",
            "  inflating: Data/Train/Mask/172.jpg  \n",
            "  inflating: Data/Train/Mask/173.jpg  \n",
            "  inflating: Data/Train/Mask/174.jpg  \n",
            "  inflating: Data/Train/Mask/175.jpg  \n",
            "  inflating: Data/Train/Mask/176.jpg  \n",
            "  inflating: Data/Train/Mask/177.jpg  \n",
            "  inflating: Data/Train/Mask/178.jpg  \n",
            "  inflating: Data/Train/Mask/179.jpg  \n",
            "  inflating: Data/Train/Mask/18.jpg  \n",
            "  inflating: Data/Train/Mask/180.jpg  \n",
            "  inflating: Data/Train/Mask/181.jpg  \n",
            "  inflating: Data/Train/Mask/182.jpg  \n",
            "  inflating: Data/Train/Mask/183.jpg  \n",
            "  inflating: Data/Train/Mask/184.jpg  \n",
            "  inflating: Data/Train/Mask/185.jpg  \n",
            "  inflating: Data/Train/Mask/186.jpg  \n",
            "  inflating: Data/Train/Mask/187.jpg  \n",
            "  inflating: Data/Train/Mask/188.jpg  \n",
            "  inflating: Data/Train/Mask/189.jpg  \n",
            "  inflating: Data/Train/Mask/19.jpg  \n",
            "  inflating: Data/Train/Mask/190.jpg  \n",
            "  inflating: Data/Train/Mask/191.jpg  \n",
            "  inflating: Data/Train/Mask/192.jpg  \n",
            "  inflating: Data/Train/Mask/193.jpg  \n",
            "  inflating: Data/Train/Mask/194.jpg  \n",
            "  inflating: Data/Train/Mask/195.jpg  \n",
            "  inflating: Data/Train/Mask/196.jpg  \n",
            "  inflating: Data/Train/Mask/197.jpg  \n",
            "  inflating: Data/Train/Mask/198.jpg  \n",
            "  inflating: Data/Train/Mask/199.jpg  \n",
            "  inflating: Data/Train/Mask/2.jpg   \n",
            "  inflating: Data/Train/Mask/20.jpg  \n",
            "  inflating: Data/Train/Mask/200.jpg  \n",
            "  inflating: Data/Train/Mask/201.jpg  \n",
            "  inflating: Data/Train/Mask/202.jpg  \n",
            "  inflating: Data/Train/Mask/203.jpg  \n",
            "  inflating: Data/Train/Mask/204.jpg  \n",
            "  inflating: Data/Train/Mask/205.jpg  \n",
            "  inflating: Data/Train/Mask/206.jpg  \n",
            "  inflating: Data/Train/Mask/207.jpg  \n",
            "  inflating: Data/Train/Mask/208.jpg  \n",
            "  inflating: Data/Train/Mask/209.jpg  \n",
            "  inflating: Data/Train/Mask/21.jpg  \n",
            "  inflating: Data/Train/Mask/210.jpg  \n",
            "  inflating: Data/Train/Mask/211.jpg  \n",
            "  inflating: Data/Train/Mask/212.jpg  \n",
            "  inflating: Data/Train/Mask/213.jpg  \n",
            "  inflating: Data/Train/Mask/214.jpg  \n",
            "  inflating: Data/Train/Mask/215.jpg  \n",
            "  inflating: Data/Train/Mask/216.jpg  \n",
            "  inflating: Data/Train/Mask/217.jpg  \n",
            "  inflating: Data/Train/Mask/218.jpg  \n",
            "  inflating: Data/Train/Mask/219.jpg  \n",
            "  inflating: Data/Train/Mask/22.jpg  \n",
            "  inflating: Data/Train/Mask/220.jpg  \n",
            "  inflating: Data/Train/Mask/221.jpg  \n",
            "  inflating: Data/Train/Mask/222.jpg  \n",
            "  inflating: Data/Train/Mask/223.jpg  \n",
            "  inflating: Data/Train/Mask/224.jpg  \n",
            "  inflating: Data/Train/Mask/225.jpg  \n",
            "  inflating: Data/Train/Mask/226.jpg  \n",
            "  inflating: Data/Train/Mask/227.jpg  \n",
            "  inflating: Data/Train/Mask/228.jpg  \n",
            "  inflating: Data/Train/Mask/229.jpg  \n",
            "  inflating: Data/Train/Mask/23.jpg  \n",
            "  inflating: Data/Train/Mask/230.jpg  \n",
            "  inflating: Data/Train/Mask/231.jpg  \n",
            "  inflating: Data/Train/Mask/232.jpg  \n",
            "  inflating: Data/Train/Mask/233.jpg  \n",
            "  inflating: Data/Train/Mask/234.jpg  \n",
            "  inflating: Data/Train/Mask/235.jpg  \n",
            "  inflating: Data/Train/Mask/236.jpg  \n",
            "  inflating: Data/Train/Mask/237.jpg  \n",
            "  inflating: Data/Train/Mask/238.jpg  \n",
            "  inflating: Data/Train/Mask/239.jpg  \n",
            "  inflating: Data/Train/Mask/24.jpg  \n",
            "  inflating: Data/Train/Mask/240.jpg  \n",
            "  inflating: Data/Train/Mask/241.jpg  \n",
            "  inflating: Data/Train/Mask/242.jpg  \n",
            "  inflating: Data/Train/Mask/243.jpg  \n",
            "  inflating: Data/Train/Mask/244.jpg  \n",
            "  inflating: Data/Train/Mask/245.jpg  \n",
            "  inflating: Data/Train/Mask/246.jpg  \n",
            "  inflating: Data/Train/Mask/247.jpg  \n",
            "  inflating: Data/Train/Mask/248.jpg  \n",
            "  inflating: Data/Train/Mask/249.jpg  \n",
            "  inflating: Data/Train/Mask/25.jpg  \n",
            "  inflating: Data/Train/Mask/250.jpg  \n",
            "  inflating: Data/Train/Mask/251.jpg  \n",
            "  inflating: Data/Train/Mask/252.jpg  \n",
            "  inflating: Data/Train/Mask/253.jpg  \n",
            "  inflating: Data/Train/Mask/254.jpg  \n",
            "  inflating: Data/Train/Mask/255.jpg  \n",
            "  inflating: Data/Train/Mask/256.jpg  \n",
            "  inflating: Data/Train/Mask/257.jpg  \n",
            "  inflating: Data/Train/Mask/258.jpg  \n",
            "  inflating: Data/Train/Mask/259.jpg  \n",
            "  inflating: Data/Train/Mask/26.jpg  \n",
            "  inflating: Data/Train/Mask/260.jpg  \n",
            "  inflating: Data/Train/Mask/261.jpg  \n",
            "  inflating: Data/Train/Mask/262.jpg  \n",
            "  inflating: Data/Train/Mask/263.jpg  \n",
            "  inflating: Data/Train/Mask/264.jpg  \n",
            "  inflating: Data/Train/Mask/265.jpg  \n",
            "  inflating: Data/Train/Mask/266.jpg  \n",
            "  inflating: Data/Train/Mask/267.jpg  \n",
            "  inflating: Data/Train/Mask/268.jpg  \n",
            "  inflating: Data/Train/Mask/269.jpg  \n",
            "  inflating: Data/Train/Mask/27.jpg  \n",
            "  inflating: Data/Train/Mask/270.jpg  \n",
            "  inflating: Data/Train/Mask/271.jpg  \n",
            "  inflating: Data/Train/Mask/272.jpg  \n",
            "  inflating: Data/Train/Mask/273.jpg  \n",
            "  inflating: Data/Train/Mask/274.jpg  \n",
            "  inflating: Data/Train/Mask/275.jpg  \n",
            "  inflating: Data/Train/Mask/276.jpg  \n",
            "  inflating: Data/Train/Mask/277.jpg  \n",
            "  inflating: Data/Train/Mask/278.jpg  \n",
            "  inflating: Data/Train/Mask/279.jpg  \n",
            "  inflating: Data/Train/Mask/28.jpg  \n",
            "  inflating: Data/Train/Mask/280.jpg  \n",
            "  inflating: Data/Train/Mask/281.jpg  \n",
            "  inflating: Data/Train/Mask/282.jpg  \n",
            "  inflating: Data/Train/Mask/283.jpg  \n",
            "  inflating: Data/Train/Mask/284.jpg  \n",
            "  inflating: Data/Train/Mask/285.jpg  \n",
            "  inflating: Data/Train/Mask/286.jpg  \n",
            "  inflating: Data/Train/Mask/287.jpg  \n",
            "  inflating: Data/Train/Mask/288.jpg  \n",
            "  inflating: Data/Train/Mask/289.jpg  \n",
            "  inflating: Data/Train/Mask/29.jpg  \n",
            "  inflating: Data/Train/Mask/290.jpg  \n",
            "  inflating: Data/Train/Mask/291.jpg  \n",
            "  inflating: Data/Train/Mask/292.jpg  \n",
            "  inflating: Data/Train/Mask/293.jpg  \n",
            "  inflating: Data/Train/Mask/294.jpg  \n",
            "  inflating: Data/Train/Mask/295.jpg  \n",
            "  inflating: Data/Train/Mask/296.jpg  \n",
            "  inflating: Data/Train/Mask/297.jpg  \n",
            "  inflating: Data/Train/Mask/298.jpg  \n",
            "  inflating: Data/Train/Mask/299.jpg  \n",
            "  inflating: Data/Train/Mask/3.jpg   \n",
            "  inflating: Data/Train/Mask/30.jpg  \n",
            "  inflating: Data/Train/Mask/31.jpg  \n",
            "  inflating: Data/Train/Mask/32.jpg  \n",
            "  inflating: Data/Train/Mask/33.jpg  \n",
            "  inflating: Data/Train/Mask/34.jpg  \n",
            "  inflating: Data/Train/Mask/35.jpg  \n",
            "  inflating: Data/Train/Mask/36.jpg  \n",
            "  inflating: Data/Train/Mask/37.jpg  \n",
            "  inflating: Data/Train/Mask/38.jpg  \n",
            "  inflating: Data/Train/Mask/39.jpg  \n",
            "  inflating: Data/Train/Mask/4.jpg   \n",
            "  inflating: Data/Train/Mask/40.jpg  \n",
            "  inflating: Data/Train/Mask/41.jpg  \n",
            "  inflating: Data/Train/Mask/42.jpg  \n",
            "  inflating: Data/Train/Mask/43.jpg  \n",
            "  inflating: Data/Train/Mask/44.jpg  \n",
            "  inflating: Data/Train/Mask/45.jpg  \n",
            "  inflating: Data/Train/Mask/46.jpg  \n",
            "  inflating: Data/Train/Mask/47.jpg  \n",
            "  inflating: Data/Train/Mask/48.jpg  \n",
            "  inflating: Data/Train/Mask/49.jpg  \n",
            "  inflating: Data/Train/Mask/5.jpg   \n",
            "  inflating: Data/Train/Mask/50.jpg  \n",
            "  inflating: Data/Train/Mask/51.jpg  \n",
            "  inflating: Data/Train/Mask/52.jpg  \n",
            "  inflating: Data/Train/Mask/53.jpg  \n",
            "  inflating: Data/Train/Mask/54.jpg  \n",
            "  inflating: Data/Train/Mask/55.jpg  \n",
            "  inflating: Data/Train/Mask/56.jpg  \n",
            "  inflating: Data/Train/Mask/57.jpg  \n",
            "  inflating: Data/Train/Mask/58.jpg  \n",
            "  inflating: Data/Train/Mask/59.jpg  \n",
            "  inflating: Data/Train/Mask/6.jpg   \n",
            "  inflating: Data/Train/Mask/60.jpg  \n",
            "  inflating: Data/Train/Mask/61.jpg  \n",
            "  inflating: Data/Train/Mask/62.jpg  \n",
            "  inflating: Data/Train/Mask/63.jpg  \n",
            "  inflating: Data/Train/Mask/64.jpg  \n",
            "  inflating: Data/Train/Mask/65.jpg  \n",
            "  inflating: Data/Train/Mask/66.jpg  \n",
            "  inflating: Data/Train/Mask/67.jpg  \n",
            "  inflating: Data/Train/Mask/68.jpg  \n",
            "  inflating: Data/Train/Mask/69.jpg  \n",
            "  inflating: Data/Train/Mask/7.jpg   \n",
            "  inflating: Data/Train/Mask/70.jpg  \n",
            "  inflating: Data/Train/Mask/71.jpg  \n",
            "  inflating: Data/Train/Mask/72.jpg  \n",
            "  inflating: Data/Train/Mask/73.jpg  \n",
            "  inflating: Data/Train/Mask/74.jpg  \n",
            "  inflating: Data/Train/Mask/75.jpg  \n",
            "  inflating: Data/Train/Mask/76.jpg  \n",
            "  inflating: Data/Train/Mask/77.jpg  \n",
            "  inflating: Data/Train/Mask/78.jpg  \n",
            "  inflating: Data/Train/Mask/79.jpg  \n",
            "  inflating: Data/Train/Mask/8.jpg   \n",
            "  inflating: Data/Train/Mask/80.jpg  \n",
            "  inflating: Data/Train/Mask/81.jpg  \n",
            "  inflating: Data/Train/Mask/82.jpg  \n",
            "  inflating: Data/Train/Mask/83.jpg  \n",
            "  inflating: Data/Train/Mask/84.jpg  \n",
            "  inflating: Data/Train/Mask/85.jpg  \n",
            "  inflating: Data/Train/Mask/86.jpg  \n",
            "  inflating: Data/Train/Mask/87.jpg  \n",
            "  inflating: Data/Train/Mask/88.jpg  \n",
            "  inflating: Data/Train/Mask/89.jpg  \n",
            "  inflating: Data/Train/Mask/9.jpg   \n",
            "  inflating: Data/Train/Mask/90.jpg  \n",
            "  inflating: Data/Train/Mask/91.jpg  \n",
            "  inflating: Data/Train/Mask/92.jpg  \n",
            "  inflating: Data/Train/Mask/93.jpg  \n",
            "  inflating: Data/Train/Mask/94.jpg  \n",
            "  inflating: Data/Train/Mask/95.jpg  \n",
            "  inflating: Data/Train/Mask/96.jpg  \n",
            "  inflating: Data/Train/Mask/97.jpg  \n",
            "  inflating: Data/Train/Mask/98.jpg  \n",
            "  inflating: Data/Train/Mask/99.jpg  \n",
            "   creating: Data/Train/Unmask/\n",
            "  inflating: Data/Train/Unmask/408.jpg  \n",
            "  inflating: Data/Train/Unmask/409.jpg  \n",
            "  inflating: Data/Train/Unmask/410.jpg  \n",
            "  inflating: Data/Train/Unmask/411.jpg  \n",
            "  inflating: Data/Train/Unmask/412.jpg  \n",
            "  inflating: Data/Train/Unmask/413.jpg  \n",
            "  inflating: Data/Train/Unmask/414.jpg  \n",
            "  inflating: Data/Train/Unmask/415.jpg  \n",
            "  inflating: Data/Train/Unmask/416.jpg  \n",
            "  inflating: Data/Train/Unmask/417.jpg  \n",
            "  inflating: Data/Train/Unmask/418.jpg  \n",
            "  inflating: Data/Train/Unmask/419.jpg  \n",
            "  inflating: Data/Train/Unmask/420.jpg  \n",
            "  inflating: Data/Train/Unmask/421.jpg  \n",
            "  inflating: Data/Train/Unmask/422.jpg  \n",
            "  inflating: Data/Train/Unmask/423.jpg  \n",
            "  inflating: Data/Train/Unmask/424.jpg  \n",
            "  inflating: Data/Train/Unmask/425.jpg  \n",
            "  inflating: Data/Train/Unmask/426.jpg  \n",
            "  inflating: Data/Train/Unmask/427.jpg  \n",
            "  inflating: Data/Train/Unmask/428.jpg  \n",
            "  inflating: Data/Train/Unmask/429.jpg  \n",
            "  inflating: Data/Train/Unmask/430.jpg  \n",
            "  inflating: Data/Train/Unmask/431.jpg  \n",
            "  inflating: Data/Train/Unmask/432.jpg  \n",
            "  inflating: Data/Train/Unmask/433.jpg  \n",
            "  inflating: Data/Train/Unmask/434.jpg  \n",
            "  inflating: Data/Train/Unmask/435.jpg  \n",
            "  inflating: Data/Train/Unmask/436.jpg  \n",
            "  inflating: Data/Train/Unmask/437.jpg  \n",
            "  inflating: Data/Train/Unmask/438.jpg  \n",
            "  inflating: Data/Train/Unmask/439.jpg  \n",
            "  inflating: Data/Train/Unmask/440.jpg  \n",
            "  inflating: Data/Train/Unmask/441.jpg  \n",
            "  inflating: Data/Train/Unmask/442.jpg  \n",
            "  inflating: Data/Train/Unmask/443.jpg  \n",
            "  inflating: Data/Train/Unmask/444.jpg  \n",
            "  inflating: Data/Train/Unmask/445.jpg  \n",
            "  inflating: Data/Train/Unmask/446.jpg  \n",
            "  inflating: Data/Train/Unmask/447.jpg  \n",
            "  inflating: Data/Train/Unmask/448.jpg  \n",
            "  inflating: Data/Train/Unmask/449.jpg  \n",
            "  inflating: Data/Train/Unmask/450.jpg  \n",
            "  inflating: Data/Train/Unmask/451.jpg  \n",
            "  inflating: Data/Train/Unmask/452.jpg  \n",
            "  inflating: Data/Train/Unmask/453.jpg  \n",
            "  inflating: Data/Train/Unmask/454.jpg  \n",
            "  inflating: Data/Train/Unmask/455.jpg  \n",
            "  inflating: Data/Train/Unmask/456.jpg  \n",
            "  inflating: Data/Train/Unmask/457.jpg  \n",
            "  inflating: Data/Train/Unmask/458.jpg  \n",
            "  inflating: Data/Train/Unmask/459.jpg  \n",
            "  inflating: Data/Train/Unmask/460.jpg  \n",
            "  inflating: Data/Train/Unmask/461.jpg  \n",
            "  inflating: Data/Train/Unmask/462.jpg  \n",
            "  inflating: Data/Train/Unmask/463.jpg  \n",
            "  inflating: Data/Train/Unmask/464.jpg  \n",
            "  inflating: Data/Train/Unmask/465.jpg  \n",
            "  inflating: Data/Train/Unmask/466.jpg  \n",
            "  inflating: Data/Train/Unmask/467.jpg  \n",
            "  inflating: Data/Train/Unmask/468.jpg  \n",
            "  inflating: Data/Train/Unmask/469.jpg  \n",
            "  inflating: Data/Train/Unmask/470.jpg  \n",
            "  inflating: Data/Train/Unmask/471.jpg  \n",
            "  inflating: Data/Train/Unmask/472.jpg  \n",
            "  inflating: Data/Train/Unmask/473.jpg  \n",
            "  inflating: Data/Train/Unmask/474.jpg  \n",
            "  inflating: Data/Train/Unmask/475.jpg  \n",
            "  inflating: Data/Train/Unmask/476.jpg  \n",
            "  inflating: Data/Train/Unmask/477.jpg  \n",
            "  inflating: Data/Train/Unmask/478.jpg  \n",
            "  inflating: Data/Train/Unmask/479.jpg  \n",
            "  inflating: Data/Train/Unmask/480.jpg  \n",
            "  inflating: Data/Train/Unmask/481.jpg  \n",
            "  inflating: Data/Train/Unmask/482.jpg  \n",
            "  inflating: Data/Train/Unmask/483.jpg  \n",
            "  inflating: Data/Train/Unmask/484.jpg  \n",
            "  inflating: Data/Train/Unmask/485.jpg  \n",
            "  inflating: Data/Train/Unmask/486.jpg  \n",
            "  inflating: Data/Train/Unmask/487.jpg  \n",
            "  inflating: Data/Train/Unmask/488.jpg  \n",
            "  inflating: Data/Train/Unmask/489.jpg  \n",
            "  inflating: Data/Train/Unmask/490.jpg  \n",
            "  inflating: Data/Train/Unmask/491.jpg  \n",
            "  inflating: Data/Train/Unmask/492.jpg  \n",
            "  inflating: Data/Train/Unmask/493.jpg  \n",
            "  inflating: Data/Train/Unmask/494.jpg  \n",
            "  inflating: Data/Train/Unmask/495.jpg  \n",
            "  inflating: Data/Train/Unmask/496.jpg  \n",
            "  inflating: Data/Train/Unmask/497.jpg  \n",
            "  inflating: Data/Train/Unmask/498.jpg  \n",
            "  inflating: Data/Train/Unmask/499.jpg  \n",
            "  inflating: Data/Train/Unmask/500.jpg  \n",
            "  inflating: Data/Train/Unmask/501.jpg  \n",
            "  inflating: Data/Train/Unmask/502.jpg  \n",
            "  inflating: Data/Train/Unmask/503.jpg  \n",
            "  inflating: Data/Train/Unmask/504.jpg  \n",
            "  inflating: Data/Train/Unmask/505.jpg  \n",
            "  inflating: Data/Train/Unmask/506.jpg  \n",
            "  inflating: Data/Train/Unmask/507.jpg  \n",
            "  inflating: Data/Train/Unmask/508.jpg  \n",
            "  inflating: Data/Train/Unmask/509.jpg  \n",
            "  inflating: Data/Train/Unmask/510.jpg  \n",
            "  inflating: Data/Train/Unmask/511.jpg  \n",
            "  inflating: Data/Train/Unmask/512.jpg  \n",
            "  inflating: Data/Train/Unmask/513.jpg  \n",
            "  inflating: Data/Train/Unmask/514.jpg  \n",
            "  inflating: Data/Train/Unmask/515.jpg  \n",
            "  inflating: Data/Train/Unmask/516.jpg  \n",
            "  inflating: Data/Train/Unmask/517.jpg  \n",
            "  inflating: Data/Train/Unmask/518.jpg  \n",
            "  inflating: Data/Train/Unmask/519.jpg  \n",
            "  inflating: Data/Train/Unmask/520.jpg  \n",
            "  inflating: Data/Train/Unmask/521.jpg  \n",
            "  inflating: Data/Train/Unmask/522.jpg  \n",
            "  inflating: Data/Train/Unmask/523.jpg  \n",
            "  inflating: Data/Train/Unmask/524.jpg  \n",
            "  inflating: Data/Train/Unmask/525.jpg  \n",
            "  inflating: Data/Train/Unmask/526.jpg  \n",
            "  inflating: Data/Train/Unmask/527.jpg  \n",
            "  inflating: Data/Train/Unmask/528.jpg  \n",
            "  inflating: Data/Train/Unmask/529.jpg  \n",
            "  inflating: Data/Train/Unmask/530.jpg  \n",
            "  inflating: Data/Train/Unmask/531.jpg  \n",
            "  inflating: Data/Train/Unmask/532.jpg  \n",
            "  inflating: Data/Train/Unmask/533.jpg  \n",
            "  inflating: Data/Train/Unmask/534.jpg  \n",
            "  inflating: Data/Train/Unmask/535.jpg  \n",
            "  inflating: Data/Train/Unmask/536.jpg  \n",
            "  inflating: Data/Train/Unmask/537.jpg  \n",
            "  inflating: Data/Train/Unmask/538.jpg  \n",
            "  inflating: Data/Train/Unmask/539.jpg  \n",
            "  inflating: Data/Train/Unmask/540.jpg  \n",
            "  inflating: Data/Train/Unmask/541.jpg  \n",
            "  inflating: Data/Train/Unmask/542.jpg  \n",
            "  inflating: Data/Train/Unmask/543.jpg  \n",
            "  inflating: Data/Train/Unmask/544.jpg  \n",
            "  inflating: Data/Train/Unmask/545.jpg  \n",
            "  inflating: Data/Train/Unmask/546.jpg  \n",
            "  inflating: Data/Train/Unmask/547.jpg  \n",
            "  inflating: Data/Train/Unmask/548.jpg  \n",
            "  inflating: Data/Train/Unmask/549.jpg  \n",
            "  inflating: Data/Train/Unmask/550.jpg  \n",
            "  inflating: Data/Train/Unmask/551.jpg  \n",
            "  inflating: Data/Train/Unmask/552.jpg  \n",
            "  inflating: Data/Train/Unmask/553.jpg  \n",
            "  inflating: Data/Train/Unmask/554.jpg  \n",
            "  inflating: Data/Train/Unmask/555.jpg  \n",
            "  inflating: Data/Train/Unmask/556.jpg  \n",
            "  inflating: Data/Train/Unmask/557.jpg  \n",
            "  inflating: Data/Train/Unmask/558.jpg  \n",
            "  inflating: Data/Train/Unmask/559.jpg  \n",
            "  inflating: Data/Train/Unmask/560.jpg  \n",
            "  inflating: Data/Train/Unmask/561.jpg  \n",
            "  inflating: Data/Train/Unmask/562.jpg  \n",
            "  inflating: Data/Train/Unmask/563.jpg  \n",
            "  inflating: Data/Train/Unmask/564.jpg  \n",
            "  inflating: Data/Train/Unmask/565.jpg  \n",
            "  inflating: Data/Train/Unmask/566.jpg  \n",
            "  inflating: Data/Train/Unmask/567.jpg  \n",
            "  inflating: Data/Train/Unmask/568.jpg  \n",
            "  inflating: Data/Train/Unmask/569.jpg  \n",
            "  inflating: Data/Train/Unmask/570.jpg  \n",
            "  inflating: Data/Train/Unmask/571.jpg  \n",
            "  inflating: Data/Train/Unmask/572.jpg  \n",
            "  inflating: Data/Train/Unmask/573.jpg  \n",
            "  inflating: Data/Train/Unmask/574.jpg  \n",
            "  inflating: Data/Train/Unmask/575.jpg  \n",
            "  inflating: Data/Train/Unmask/576.jpg  \n",
            "  inflating: Data/Train/Unmask/577.jpg  \n",
            "  inflating: Data/Train/Unmask/578.jpg  \n",
            "  inflating: Data/Train/Unmask/579.jpg  \n",
            "  inflating: Data/Train/Unmask/580.jpg  \n",
            "  inflating: Data/Train/Unmask/581.jpg  \n",
            "  inflating: Data/Train/Unmask/582.jpg  \n",
            "  inflating: Data/Train/Unmask/583.jpg  \n",
            "  inflating: Data/Train/Unmask/584.jpg  \n",
            "  inflating: Data/Train/Unmask/585.jpg  \n",
            "  inflating: Data/Train/Unmask/586.jpg  \n",
            "  inflating: Data/Train/Unmask/587.jpg  \n",
            "  inflating: Data/Train/Unmask/588.jpg  \n",
            "  inflating: Data/Train/Unmask/589.jpg  \n",
            "  inflating: Data/Train/Unmask/590.jpg  \n",
            "  inflating: Data/Train/Unmask/591.jpg  \n",
            "  inflating: Data/Train/Unmask/592.jpg  \n",
            "  inflating: Data/Train/Unmask/593.jpg  \n",
            "  inflating: Data/Train/Unmask/594.jpg  \n",
            "  inflating: Data/Train/Unmask/595.jpg  \n",
            "  inflating: Data/Train/Unmask/596.jpg  \n",
            "  inflating: Data/Train/Unmask/597.jpg  \n",
            "  inflating: Data/Train/Unmask/598.jpg  \n",
            "  inflating: Data/Train/Unmask/599.jpg  \n",
            "  inflating: Data/Train/Unmask/600.jpg  \n",
            "  inflating: Data/Train/Unmask/601.jpg  \n",
            "  inflating: Data/Train/Unmask/602.jpg  \n",
            "  inflating: Data/Train/Unmask/603.jpg  \n",
            "  inflating: Data/Train/Unmask/604.jpg  \n",
            "  inflating: Data/Train/Unmask/605.jpg  \n",
            "  inflating: Data/Train/Unmask/606.jpg  \n",
            "  inflating: Data/Train/Unmask/607.jpg  \n",
            "  inflating: Data/Train/Unmask/608.jpg  \n",
            "  inflating: Data/Train/Unmask/609.jpg  \n",
            "  inflating: Data/Train/Unmask/610.jpg  \n",
            "  inflating: Data/Train/Unmask/611.jpg  \n",
            "  inflating: Data/Train/Unmask/612.jpg  \n",
            "  inflating: Data/Train/Unmask/613.jpg  \n",
            "  inflating: Data/Train/Unmask/614.jpg  \n",
            "  inflating: Data/Train/Unmask/615.jpg  \n",
            "  inflating: Data/Train/Unmask/616.jpg  \n",
            "  inflating: Data/Train/Unmask/617.jpg  \n",
            "  inflating: Data/Train/Unmask/618.jpg  \n",
            "  inflating: Data/Train/Unmask/619.jpg  \n",
            "  inflating: Data/Train/Unmask/620.jpg  \n",
            "  inflating: Data/Train/Unmask/621.jpg  \n",
            "  inflating: Data/Train/Unmask/622.jpg  \n",
            "  inflating: Data/Train/Unmask/623.jpg  \n",
            "  inflating: Data/Train/Unmask/624.jpg  \n",
            "  inflating: Data/Train/Unmask/625.jpg  \n",
            "  inflating: Data/Train/Unmask/626.jpg  \n",
            "  inflating: Data/Train/Unmask/627.jpg  \n",
            "  inflating: Data/Train/Unmask/628.jpg  \n",
            "  inflating: Data/Train/Unmask/629.jpg  \n",
            "  inflating: Data/Train/Unmask/630.jpg  \n",
            "  inflating: Data/Train/Unmask/631.jpg  \n",
            "  inflating: Data/Train/Unmask/632.jpg  \n",
            "  inflating: Data/Train/Unmask/633.jpg  \n",
            "  inflating: Data/Train/Unmask/634.jpg  \n",
            "  inflating: Data/Train/Unmask/635.jpg  \n",
            "  inflating: Data/Train/Unmask/636.jpg  \n",
            "  inflating: Data/Train/Unmask/637.jpg  \n",
            "  inflating: Data/Train/Unmask/638.jpg  \n",
            "  inflating: Data/Train/Unmask/639.jpg  \n",
            "  inflating: Data/Train/Unmask/640.jpg  \n",
            "  inflating: Data/Train/Unmask/641.jpg  \n",
            "  inflating: Data/Train/Unmask/642.jpg  \n",
            "  inflating: Data/Train/Unmask/643.jpg  \n",
            "  inflating: Data/Train/Unmask/644.jpg  \n",
            "  inflating: Data/Train/Unmask/645.jpg  \n",
            "  inflating: Data/Train/Unmask/646.jpg  \n",
            "  inflating: Data/Train/Unmask/647.jpg  \n",
            "  inflating: Data/Train/Unmask/648.jpg  \n",
            "  inflating: Data/Train/Unmask/649.jpg  \n",
            "  inflating: Data/Train/Unmask/650.jpg  \n",
            "  inflating: Data/Train/Unmask/651.jpg  \n",
            "  inflating: Data/Train/Unmask/652.jpg  \n",
            "  inflating: Data/Train/Unmask/653.jpg  \n",
            "  inflating: Data/Train/Unmask/654.jpg  \n",
            "  inflating: Data/Train/Unmask/655.jpg  \n",
            "  inflating: Data/Train/Unmask/656.jpg  \n",
            "  inflating: Data/Train/Unmask/657.jpg  \n",
            "  inflating: Data/Train/Unmask/658.jpg  \n",
            "  inflating: Data/Train/Unmask/659.jpg  \n",
            "  inflating: Data/Train/Unmask/660.jpg  \n",
            "  inflating: Data/Train/Unmask/661.jpg  \n",
            "  inflating: Data/Train/Unmask/662.jpg  \n",
            "  inflating: Data/Train/Unmask/663.jpg  \n",
            "  inflating: Data/Train/Unmask/664.jpg  \n",
            "  inflating: Data/Train/Unmask/665.jpg  \n",
            "  inflating: Data/Train/Unmask/666.jpg  \n",
            "  inflating: Data/Train/Unmask/667.jpg  \n",
            "  inflating: Data/Train/Unmask/668.jpg  \n",
            "  inflating: Data/Train/Unmask/669.jpg  \n",
            "  inflating: Data/Train/Unmask/670.jpg  \n",
            "  inflating: Data/Train/Unmask/671.jpg  \n",
            "  inflating: Data/Train/Unmask/672.jpg  \n",
            "  inflating: Data/Train/Unmask/673.jpg  \n",
            "  inflating: Data/Train/Unmask/674.jpg  \n",
            "  inflating: Data/Train/Unmask/675.jpg  \n",
            "  inflating: Data/Train/Unmask/676.jpg  \n",
            "  inflating: Data/Train/Unmask/677.jpg  \n",
            "  inflating: Data/Train/Unmask/678.jpg  \n",
            "  inflating: Data/Train/Unmask/679.jpg  \n",
            "  inflating: Data/Train/Unmask/680.jpg  \n",
            "  inflating: Data/Train/Unmask/681.jpg  \n",
            "  inflating: Data/Train/Unmask/682.jpg  \n",
            "  inflating: Data/Train/Unmask/683.jpg  \n",
            "  inflating: Data/Train/Unmask/684.jpg  \n",
            "  inflating: Data/Train/Unmask/685.jpg  \n",
            "  inflating: Data/Train/Unmask/686.jpg  \n",
            "  inflating: Data/Train/Unmask/687.jpg  \n",
            "  inflating: Data/Train/Unmask/688.jpg  \n",
            "  inflating: Data/Train/Unmask/689.jpg  \n",
            "  inflating: Data/Train/Unmask/690.jpg  \n",
            "  inflating: Data/Train/Unmask/691.jpg  \n",
            "  inflating: Data/Train/Unmask/692.jpg  \n",
            "  inflating: Data/Train/Unmask/693.jpg  \n",
            "  inflating: Data/Train/Unmask/694.jpg  \n",
            "  inflating: Data/Train/Unmask/695.jpg  \n",
            "  inflating: Data/Train/Unmask/696.jpg  \n",
            "  inflating: Data/Train/Unmask/697.jpg  \n",
            "  inflating: Data/Train/Unmask/698.jpg  \n",
            "  inflating: Data/Train/Unmask/699.jpg  \n",
            "  inflating: Data/Train/Unmask/700.jpg  \n",
            "  inflating: Data/Train/Unmask/701.jpg  \n",
            "  inflating: Data/Train/Unmask/702.jpg  \n",
            "  inflating: Data/Train/Unmask/703.jpg  \n",
            "  inflating: Data/Train/Unmask/704.jpg  \n",
            "  inflating: Data/Train/Unmask/705.jpg  \n",
            "  inflating: Data/Train/Unmask/706.jpg  \n",
            "  inflating: Data/Train/Unmask/707.jpg  \n",
            "   creating: Data/Validation/\n",
            "   creating: Data/Validation/Mask/\n",
            "  inflating: Data/Validation/Mask/300.jpg  \n",
            "  inflating: Data/Validation/Mask/301.jpg  \n",
            "  inflating: Data/Validation/Mask/302.jpg  \n",
            "  inflating: Data/Validation/Mask/303.jpg  \n",
            "  inflating: Data/Validation/Mask/304.jpg  \n",
            "  inflating: Data/Validation/Mask/305.jpg  \n",
            "  inflating: Data/Validation/Mask/306.jpg  \n",
            "  inflating: Data/Validation/Mask/307.jpg  \n",
            "  inflating: Data/Validation/Mask/308.jpg  \n",
            "  inflating: Data/Validation/Mask/309.jpg  \n",
            "  inflating: Data/Validation/Mask/310.jpg  \n",
            "  inflating: Data/Validation/Mask/311.jpg  \n",
            "  inflating: Data/Validation/Mask/312.jpg  \n",
            "  inflating: Data/Validation/Mask/313.jpg  \n",
            "  inflating: Data/Validation/Mask/314.jpg  \n",
            "  inflating: Data/Validation/Mask/315.jpg  \n",
            "  inflating: Data/Validation/Mask/316.jpg  \n",
            "  inflating: Data/Validation/Mask/317.jpg  \n",
            "  inflating: Data/Validation/Mask/318.jpg  \n",
            "  inflating: Data/Validation/Mask/319.jpg  \n",
            "  inflating: Data/Validation/Mask/320.jpg  \n",
            "  inflating: Data/Validation/Mask/321.jpg  \n",
            "  inflating: Data/Validation/Mask/322.jpg  \n",
            "  inflating: Data/Validation/Mask/323.jpg  \n",
            "  inflating: Data/Validation/Mask/324.jpg  \n",
            "  inflating: Data/Validation/Mask/325.jpg  \n",
            "  inflating: Data/Validation/Mask/326.jpg  \n",
            "  inflating: Data/Validation/Mask/327.jpg  \n",
            "  inflating: Data/Validation/Mask/328.jpg  \n",
            "  inflating: Data/Validation/Mask/329.jpg  \n",
            "  inflating: Data/Validation/Mask/330.jpg  \n",
            "  inflating: Data/Validation/Mask/331.jpg  \n",
            "  inflating: Data/Validation/Mask/332.jpg  \n",
            "  inflating: Data/Validation/Mask/333.jpg  \n",
            "  inflating: Data/Validation/Mask/334.jpg  \n",
            "  inflating: Data/Validation/Mask/335.jpg  \n",
            "  inflating: Data/Validation/Mask/336.jpg  \n",
            "  inflating: Data/Validation/Mask/337.jpg  \n",
            "  inflating: Data/Validation/Mask/338.jpg  \n",
            "  inflating: Data/Validation/Mask/339.jpg  \n",
            "  inflating: Data/Validation/Mask/340.jpg  \n",
            "  inflating: Data/Validation/Mask/341.jpg  \n",
            "  inflating: Data/Validation/Mask/342.jpg  \n",
            "  inflating: Data/Validation/Mask/343.jpg  \n",
            "  inflating: Data/Validation/Mask/344.jpg  \n",
            "  inflating: Data/Validation/Mask/345.jpg  \n",
            "  inflating: Data/Validation/Mask/346.jpg  \n",
            "  inflating: Data/Validation/Mask/347.jpg  \n",
            "  inflating: Data/Validation/Mask/348.jpg  \n",
            "  inflating: Data/Validation/Mask/349.jpg  \n",
            "   creating: Data/Validation/Unmask/\n",
            "  inflating: Data/Validation/Unmask/708.jpg  \n",
            "  inflating: Data/Validation/Unmask/709.jpg  \n",
            "  inflating: Data/Validation/Unmask/710.jpg  \n",
            "  inflating: Data/Validation/Unmask/711.jpg  \n",
            "  inflating: Data/Validation/Unmask/712.jpg  \n",
            "  inflating: Data/Validation/Unmask/713.jpg  \n",
            "  inflating: Data/Validation/Unmask/714.jpg  \n",
            "  inflating: Data/Validation/Unmask/715.jpg  \n",
            "  inflating: Data/Validation/Unmask/716.jpg  \n",
            "  inflating: Data/Validation/Unmask/717.jpg  \n",
            "  inflating: Data/Validation/Unmask/718.jpg  \n",
            "  inflating: Data/Validation/Unmask/719.jpg  \n",
            "  inflating: Data/Validation/Unmask/720.jpg  \n",
            "  inflating: Data/Validation/Unmask/721.jpg  \n",
            "  inflating: Data/Validation/Unmask/722.jpg  \n",
            "  inflating: Data/Validation/Unmask/723.jpg  \n",
            "  inflating: Data/Validation/Unmask/724.jpg  \n",
            "  inflating: Data/Validation/Unmask/725.jpg  \n",
            "  inflating: Data/Validation/Unmask/726.jpg  \n",
            "  inflating: Data/Validation/Unmask/727.jpg  \n",
            "  inflating: Data/Validation/Unmask/728.jpg  \n",
            "  inflating: Data/Validation/Unmask/729.jpg  \n",
            "  inflating: Data/Validation/Unmask/730.jpg  \n",
            "  inflating: Data/Validation/Unmask/731.jpg  \n",
            "  inflating: Data/Validation/Unmask/732.jpg  \n",
            "  inflating: Data/Validation/Unmask/733.jpg  \n",
            "  inflating: Data/Validation/Unmask/734.jpg  \n",
            "  inflating: Data/Validation/Unmask/735.jpg  \n",
            "  inflating: Data/Validation/Unmask/736.jpg  \n",
            "  inflating: Data/Validation/Unmask/737.jpg  \n",
            "  inflating: Data/Validation/Unmask/738.jpg  \n",
            "  inflating: Data/Validation/Unmask/739.jpg  \n",
            "  inflating: Data/Validation/Unmask/740.jpg  \n",
            "  inflating: Data/Validation/Unmask/741.jpg  \n",
            "  inflating: Data/Validation/Unmask/742.jpg  \n",
            "  inflating: Data/Validation/Unmask/743.jpg  \n",
            "  inflating: Data/Validation/Unmask/744.jpg  \n",
            "  inflating: Data/Validation/Unmask/745.jpg  \n",
            "  inflating: Data/Validation/Unmask/746.jpg  \n",
            "  inflating: Data/Validation/Unmask/747.jpg  \n",
            "  inflating: Data/Validation/Unmask/748.jpg  \n",
            "  inflating: Data/Validation/Unmask/749.jpg  \n",
            "  inflating: Data/Validation/Unmask/750.jpg  \n",
            "  inflating: Data/Validation/Unmask/751.jpg  \n",
            "  inflating: Data/Validation/Unmask/752.jpg  \n",
            "  inflating: Data/Validation/Unmask/753.jpg  \n",
            "  inflating: Data/Validation/Unmask/754.jpg  \n",
            "  inflating: Data/Validation/Unmask/755.jpg  \n",
            "  inflating: Data/Validation/Unmask/756.jpg  \n",
            "  inflating: Data/Validation/Unmask/757.jpg  \n"
          ]
        }
      ],
      "source": [
        "!unzip '/content/drive/MyDrive/Data.zip'"
      ]
    },
    {
      "cell_type": "code",
      "execution_count": 4,
      "metadata": {
        "id": "zIKxjACwc-IZ"
      },
      "outputs": [],
      "source": [
        "train_dataset = datasets.ImageFolder('/content/Data/Train',transform=transform)\n",
        "validation_dataset = datasets.ImageFolder('/content/Data/Validation',transform=transform)\n",
        "test_dataset = datasets.ImageFolder('/content/Data/Test',transform=transform)\n",
        "train_loader = DataLoader(train_dataset, batch_size=16, shuffle=False)\n",
        "validation_loader = DataLoader(validation_dataset, batch_size=16, shuffle=False)\n",
        "test_loader = DataLoader(test_dataset, batch_size=16, shuffle=True)\n",
        "\n",
        "device = torch.device(\"cuda\" if torch.cuda.is_available() else \"cpu\")"
      ]
    },
    {
      "cell_type": "code",
      "source": [
        "class CNN(nn.Module):\n",
        "    def __init__(self):\n",
        "        super(CNN, self).__init__()\n",
        "        self.conv1 = nn.Conv2d(3, 16, kernel_size=3, stride=1, padding=1)\n",
        "        self.relu = nn.ReLU()\n",
        "        self.pool = nn.MaxPool2d(kernel_size=2, stride=2, padding=0)\n",
        "        self.fc1 = nn.Linear(16 * 128 * 128, 1)\n",
        "    def forward(self, x):\n",
        "        x = self.conv1(x)\n",
        "        x = self.relu(x)\n",
        "        x = self.pool(x)\n",
        "        x = x.view(x.size(0), -1)\n",
        "        x = self.fc1(x)\n",
        "        return x"
      ],
      "metadata": {
        "id": "Kc1klYws5QdJ"
      },
      "execution_count": 5,
      "outputs": []
    },
    {
      "cell_type": "code",
      "execution_count": 6,
      "metadata": {
        "id": "MY7vWREuBxSO"
      },
      "outputs": [],
      "source": [
        "#CENTRALIZED"
      ]
    },
    {
      "cell_type": "code",
      "execution_count": 7,
      "metadata": {
        "id": "wExybcJHdIro"
      },
      "outputs": [],
      "source": [
        "model = CNN()\n",
        "model = model.to(device)"
      ]
    },
    {
      "cell_type": "code",
      "execution_count": 8,
      "metadata": {
        "id": "0VO7a07nD_QG"
      },
      "outputs": [],
      "source": [
        "optimizer = optim.Adam(model.parameters(),lr=0.005)\n",
        "criterion = nn.BCEWithLogitsLoss()"
      ]
    },
    {
      "cell_type": "code",
      "source": [
        "# Training Loop\n",
        "num_epochs = 20\n",
        "for epoch in range(num_epochs):\n",
        "    model.train()\n",
        "    running_loss = 0.0\n",
        "    for inputs, labels in tqdm(train_loader):\n",
        "        optimizer.zero_grad()\n",
        "        inputs = inputs.to(device)\n",
        "        outputs = model(inputs)\n",
        "        labels = labels.to(device)\n",
        "        loss = criterion(outputs, labels.float().view(-1, 1))\n",
        "        loss.backward()\n",
        "        optimizer.step()\n",
        "        running_loss += loss.item()\n",
        "    model.eval()\n",
        "    total = 0\n",
        "    correct = 0\n",
        "    with torch.no_grad():\n",
        "        for inputs, labels in tqdm(validation_loader):\n",
        "            inputs = inputs.to(device)\n",
        "            labels = labels.to(device)\n",
        "            outputs = model(inputs)\n",
        "            preds = torch.round(torch.sigmoid(outputs))\n",
        "            total += labels.size(0)\n",
        "            correct += (preds == labels.float().view(-1, 1)).sum().item()\n",
        "    accuracy = correct / total\n",
        "    average_loss = running_loss / len(train_loader)\n",
        "    print(f'Epoch {epoch + 1}/{num_epochs}, Loss: {average_loss:.4f}, Accuracy: {accuracy * 100:.2f}%')"
      ],
      "metadata": {
        "colab": {
          "base_uri": "https://localhost:8080/"
        },
        "id": "FNfy0UWv_RuV",
        "outputId": "a4b0cb47-71f6-4288-cde9-b98d2b4b7478"
      },
      "execution_count": 9,
      "outputs": [
        {
          "output_type": "stream",
          "name": "stderr",
          "text": [
            "100%|██████████| 38/38 [00:10<00:00,  3.46it/s]\n",
            "100%|██████████| 7/7 [00:00<00:00, 16.99it/s]\n"
          ]
        },
        {
          "output_type": "stream",
          "name": "stdout",
          "text": [
            "Epoch 1/20, Loss: 131.4462, Accuracy: 50.00%\n"
          ]
        },
        {
          "output_type": "stream",
          "name": "stderr",
          "text": [
            "100%|██████████| 38/38 [00:02<00:00, 14.12it/s]\n",
            "100%|██████████| 7/7 [00:00<00:00, 16.84it/s]\n"
          ]
        },
        {
          "output_type": "stream",
          "name": "stdout",
          "text": [
            "Epoch 2/20, Loss: 210.2874, Accuracy: 50.00%\n"
          ]
        },
        {
          "output_type": "stream",
          "name": "stderr",
          "text": [
            "100%|██████████| 38/38 [00:02<00:00, 14.46it/s]\n",
            "100%|██████████| 7/7 [00:00<00:00, 16.75it/s]\n"
          ]
        },
        {
          "output_type": "stream",
          "name": "stdout",
          "text": [
            "Epoch 3/20, Loss: 166.4485, Accuracy: 79.00%\n"
          ]
        },
        {
          "output_type": "stream",
          "name": "stderr",
          "text": [
            "100%|██████████| 38/38 [00:03<00:00, 12.02it/s]\n",
            "100%|██████████| 7/7 [00:00<00:00, 11.48it/s]\n"
          ]
        },
        {
          "output_type": "stream",
          "name": "stdout",
          "text": [
            "Epoch 4/20, Loss: 6.5666, Accuracy: 51.00%\n"
          ]
        },
        {
          "output_type": "stream",
          "name": "stderr",
          "text": [
            "100%|██████████| 38/38 [00:03<00:00, 10.44it/s]\n",
            "100%|██████████| 7/7 [00:00<00:00, 15.86it/s]\n"
          ]
        },
        {
          "output_type": "stream",
          "name": "stdout",
          "text": [
            "Epoch 5/20, Loss: 29.6281, Accuracy: 74.00%\n"
          ]
        },
        {
          "output_type": "stream",
          "name": "stderr",
          "text": [
            "100%|██████████| 38/38 [00:02<00:00, 14.30it/s]\n",
            "100%|██████████| 7/7 [00:00<00:00, 17.09it/s]\n"
          ]
        },
        {
          "output_type": "stream",
          "name": "stdout",
          "text": [
            "Epoch 6/20, Loss: 7.8350, Accuracy: 91.00%\n"
          ]
        },
        {
          "output_type": "stream",
          "name": "stderr",
          "text": [
            "100%|██████████| 38/38 [00:02<00:00, 14.62it/s]\n",
            "100%|██████████| 7/7 [00:00<00:00, 16.80it/s]\n"
          ]
        },
        {
          "output_type": "stream",
          "name": "stdout",
          "text": [
            "Epoch 7/20, Loss: 2.7049, Accuracy: 89.00%\n"
          ]
        },
        {
          "output_type": "stream",
          "name": "stderr",
          "text": [
            "100%|██████████| 38/38 [00:02<00:00, 14.62it/s]\n",
            "100%|██████████| 7/7 [00:00<00:00, 17.20it/s]\n"
          ]
        },
        {
          "output_type": "stream",
          "name": "stdout",
          "text": [
            "Epoch 8/20, Loss: 1.6146, Accuracy: 94.00%\n"
          ]
        },
        {
          "output_type": "stream",
          "name": "stderr",
          "text": [
            "100%|██████████| 38/38 [00:03<00:00, 10.85it/s]\n",
            "100%|██████████| 7/7 [00:00<00:00, 11.39it/s]\n"
          ]
        },
        {
          "output_type": "stream",
          "name": "stdout",
          "text": [
            "Epoch 9/20, Loss: 0.8314, Accuracy: 93.00%\n"
          ]
        },
        {
          "output_type": "stream",
          "name": "stderr",
          "text": [
            "100%|██████████| 38/38 [00:03<00:00, 11.58it/s]\n",
            "100%|██████████| 7/7 [00:00<00:00, 16.52it/s]\n"
          ]
        },
        {
          "output_type": "stream",
          "name": "stdout",
          "text": [
            "Epoch 10/20, Loss: 0.6452, Accuracy: 90.00%\n"
          ]
        },
        {
          "output_type": "stream",
          "name": "stderr",
          "text": [
            "100%|██████████| 38/38 [00:02<00:00, 14.19it/s]\n",
            "100%|██████████| 7/7 [00:00<00:00, 16.47it/s]\n"
          ]
        },
        {
          "output_type": "stream",
          "name": "stdout",
          "text": [
            "Epoch 11/20, Loss: 0.4190, Accuracy: 92.00%\n"
          ]
        },
        {
          "output_type": "stream",
          "name": "stderr",
          "text": [
            "100%|██████████| 38/38 [00:02<00:00, 14.41it/s]\n",
            "100%|██████████| 7/7 [00:00<00:00, 16.63it/s]\n"
          ]
        },
        {
          "output_type": "stream",
          "name": "stdout",
          "text": [
            "Epoch 12/20, Loss: 0.2934, Accuracy: 93.00%\n"
          ]
        },
        {
          "output_type": "stream",
          "name": "stderr",
          "text": [
            "100%|██████████| 38/38 [00:02<00:00, 13.77it/s]\n",
            "100%|██████████| 7/7 [00:00<00:00, 11.70it/s]\n"
          ]
        },
        {
          "output_type": "stream",
          "name": "stdout",
          "text": [
            "Epoch 13/20, Loss: 0.2651, Accuracy: 92.00%\n"
          ]
        },
        {
          "output_type": "stream",
          "name": "stderr",
          "text": [
            "100%|██████████| 38/38 [00:03<00:00, 10.32it/s]\n",
            "100%|██████████| 7/7 [00:00<00:00, 11.79it/s]\n"
          ]
        },
        {
          "output_type": "stream",
          "name": "stdout",
          "text": [
            "Epoch 14/20, Loss: 0.2141, Accuracy: 92.00%\n"
          ]
        },
        {
          "output_type": "stream",
          "name": "stderr",
          "text": [
            "100%|██████████| 38/38 [00:02<00:00, 13.42it/s]\n",
            "100%|██████████| 7/7 [00:00<00:00, 16.86it/s]\n"
          ]
        },
        {
          "output_type": "stream",
          "name": "stdout",
          "text": [
            "Epoch 15/20, Loss: 0.1642, Accuracy: 94.00%\n"
          ]
        },
        {
          "output_type": "stream",
          "name": "stderr",
          "text": [
            "100%|██████████| 38/38 [00:02<00:00, 14.59it/s]\n",
            "100%|██████████| 7/7 [00:00<00:00, 17.33it/s]\n"
          ]
        },
        {
          "output_type": "stream",
          "name": "stdout",
          "text": [
            "Epoch 16/20, Loss: 0.1215, Accuracy: 94.00%\n"
          ]
        },
        {
          "output_type": "stream",
          "name": "stderr",
          "text": [
            "100%|██████████| 38/38 [00:02<00:00, 14.37it/s]\n",
            "100%|██████████| 7/7 [00:00<00:00, 17.32it/s]\n"
          ]
        },
        {
          "output_type": "stream",
          "name": "stdout",
          "text": [
            "Epoch 17/20, Loss: 0.0638, Accuracy: 93.00%\n"
          ]
        },
        {
          "output_type": "stream",
          "name": "stderr",
          "text": [
            "100%|██████████| 38/38 [00:03<00:00, 12.29it/s]\n",
            "100%|██████████| 7/7 [00:00<00:00, 11.61it/s]\n"
          ]
        },
        {
          "output_type": "stream",
          "name": "stdout",
          "text": [
            "Epoch 18/20, Loss: 0.0462, Accuracy: 93.00%\n"
          ]
        },
        {
          "output_type": "stream",
          "name": "stderr",
          "text": [
            "100%|██████████| 38/38 [00:03<00:00, 10.34it/s]\n",
            "100%|██████████| 7/7 [00:00<00:00, 14.35it/s]\n"
          ]
        },
        {
          "output_type": "stream",
          "name": "stdout",
          "text": [
            "Epoch 19/20, Loss: 0.0739, Accuracy: 95.00%\n"
          ]
        },
        {
          "output_type": "stream",
          "name": "stderr",
          "text": [
            "100%|██████████| 38/38 [00:02<00:00, 14.35it/s]\n",
            "100%|██████████| 7/7 [00:00<00:00, 16.03it/s]"
          ]
        },
        {
          "output_type": "stream",
          "name": "stdout",
          "text": [
            "Epoch 20/20, Loss: 0.0393, Accuracy: 95.00%\n"
          ]
        },
        {
          "output_type": "stream",
          "name": "stderr",
          "text": [
            "\n"
          ]
        }
      ]
    },
    {
      "cell_type": "code",
      "execution_count": 10,
      "metadata": {
        "id": "5FsanOhcdOvU",
        "colab": {
          "base_uri": "https://localhost:8080/"
        },
        "outputId": "3ab14ed3-5b87-41e1-8530-7043665e1b79"
      },
      "outputs": [
        {
          "output_type": "stream",
          "name": "stderr",
          "text": [
            "100%|██████████| 7/7 [00:00<00:00, 11.84it/s]"
          ]
        },
        {
          "output_type": "stream",
          "name": "stdout",
          "text": [
            "Test Accuracy: 0.95\n"
          ]
        },
        {
          "output_type": "stream",
          "name": "stderr",
          "text": [
            "\n"
          ]
        }
      ],
      "source": [
        "# Test the models on the test_loader\n",
        "model.eval()\n",
        "correct = 0\n",
        "total = 0\n",
        "with torch.no_grad():\n",
        "    for inputs, labels in tqdm(validation_loader):\n",
        "        inputs = inputs.to(device)\n",
        "        labels = labels.to(device)\n",
        "        outputs = model(inputs)\n",
        "        preds = torch.round(torch.sigmoid(outputs))\n",
        "        total += labels.size(0)\n",
        "        correct += (preds == labels.float().view(-1, 1)).sum().item()\n",
        "    accuracy = correct /  total\n",
        "print(f\"Test Accuracy: {accuracy}\")"
      ]
    },
    {
      "cell_type": "code",
      "execution_count": 11,
      "metadata": {
        "id": "grs8i9cKBuAC"
      },
      "outputs": [],
      "source": [
        "#FEDERATED"
      ]
    },
    {
      "cell_type": "code",
      "execution_count": 12,
      "metadata": {
        "id": "aZ0jxahpwcoM"
      },
      "outputs": [],
      "source": [
        "class Device():\n",
        "    id = 0\n",
        "    battery = 0\n",
        "    communication_strength = 0\n",
        "    def __init__(self, id, val1, val2):\n",
        "        self.id = id\n",
        "        self.battery = val1\n",
        "        self.communication_strength = val2\n",
        "\n",
        "clients = []\n",
        "for i in range(0, 20):\n",
        "    dev=Device(i, (100-i), 50)\n",
        "    clients.append(dev)"
      ]
    },
    {
      "cell_type": "code",
      "execution_count": 13,
      "metadata": {
        "id": "y51SS8kW_95A"
      },
      "outputs": [],
      "source": [
        "model = CNN()\n",
        "model = model.to(device)\n",
        "optimizer = optim.Adam(model.parameters(),lr=0.005)\n",
        "criterion = nn.BCEWithLogitsLoss()"
      ]
    },
    {
      "cell_type": "code",
      "execution_count": 14,
      "metadata": {
        "colab": {
          "base_uri": "https://localhost:8080/"
        },
        "id": "XZwiDM2qAim4",
        "outputId": "7904d609-f564-4cfe-a4fc-d6c5143393ff"
      },
      "outputs": [
        {
          "output_type": "stream",
          "name": "stderr",
          "text": [
            "100%|██████████| 3/3 [00:00<00:00,  4.38it/s]\n"
          ]
        },
        {
          "output_type": "stream",
          "name": "stdout",
          "text": [
            "Epoch 1/5, Loss: 10.6458\n"
          ]
        },
        {
          "output_type": "stream",
          "name": "stderr",
          "text": [
            "100%|██████████| 3/3 [00:00<00:00,  3.79it/s]\n"
          ]
        },
        {
          "output_type": "stream",
          "name": "stdout",
          "text": [
            "Epoch 2/5, Loss: 0.9394\n"
          ]
        },
        {
          "output_type": "stream",
          "name": "stderr",
          "text": [
            "100%|██████████| 3/3 [00:00<00:00,  3.21it/s]\n"
          ]
        },
        {
          "output_type": "stream",
          "name": "stdout",
          "text": [
            "Epoch 3/5, Loss: 0.5902\n"
          ]
        },
        {
          "output_type": "stream",
          "name": "stderr",
          "text": [
            "100%|██████████| 3/3 [00:00<00:00,  3.23it/s]\n"
          ]
        },
        {
          "output_type": "stream",
          "name": "stdout",
          "text": [
            "Epoch 4/5, Loss: 0.4590\n"
          ]
        },
        {
          "output_type": "stream",
          "name": "stderr",
          "text": [
            "100%|██████████| 3/3 [00:00<00:00,  3.26it/s]"
          ]
        },
        {
          "output_type": "stream",
          "name": "stdout",
          "text": [
            "Epoch 5/5, Loss: 0.1087\n"
          ]
        },
        {
          "output_type": "stream",
          "name": "stderr",
          "text": [
            "\n"
          ]
        }
      ],
      "source": [
        "num_epochs = 5\n",
        "temp_dataset = torch.utils.data.Subset(train_dataset, np.random.choice(len(train_dataset), 150, replace=True))\n",
        "temp_loader = DataLoader(temp_dataset, batch_size=64, shuffle=False)\n",
        "for epoch in range(num_epochs):\n",
        "    model.train()\n",
        "    running_loss = 0.0\n",
        "    for inputs, labels in tqdm(temp_loader):\n",
        "        optimizer.zero_grad()\n",
        "        inputs = inputs.to(device)\n",
        "        outputs = model(inputs)\n",
        "        labels = labels.to(device)\n",
        "        loss = criterion(outputs, labels.float().view(-1, 1))\n",
        "        loss.backward()\n",
        "        optimizer.step()\n",
        "        running_loss += loss.item()\n",
        "    average_loss = running_loss / len(temp_loader)\n",
        "    print(f'Epoch {epoch + 1}/{num_epochs}, Loss: {average_loss:.4f}')"
      ]
    },
    {
      "cell_type": "code",
      "execution_count": 15,
      "metadata": {
        "id": "DXXPzi7aAjcE"
      },
      "outputs": [],
      "source": [
        "model_weights = model.state_dict()"
      ]
    },
    {
      "cell_type": "code",
      "execution_count": 16,
      "metadata": {
        "colab": {
          "base_uri": "https://localhost:8080/"
        },
        "id": "8bW2C-y1wdQt",
        "outputId": "3eaaed96-1339-4cc3-9415-72f4dd65c75d"
      },
      "outputs": [
        {
          "output_type": "stream",
          "name": "stderr",
          "text": [
            "100%|██████████| 1/1 [00:00<00:00,  3.18it/s]\n"
          ]
        },
        {
          "output_type": "stream",
          "name": "stdout",
          "text": [
            "Round 1/5, Device 20/20, Epoch 1/5, Loss: 0.1087\n"
          ]
        },
        {
          "output_type": "stream",
          "name": "stderr",
          "text": [
            "100%|██████████| 1/1 [00:00<00:00,  2.15it/s]\n"
          ]
        },
        {
          "output_type": "stream",
          "name": "stdout",
          "text": [
            "Round 1/5, Device 20/20, Epoch 2/5, Loss: 0.1087\n"
          ]
        },
        {
          "output_type": "stream",
          "name": "stderr",
          "text": [
            "100%|██████████| 1/1 [00:00<00:00,  2.39it/s]\n"
          ]
        },
        {
          "output_type": "stream",
          "name": "stdout",
          "text": [
            "Round 1/5, Device 20/20, Epoch 3/5, Loss: 0.1087\n"
          ]
        },
        {
          "output_type": "stream",
          "name": "stderr",
          "text": [
            "100%|██████████| 1/1 [00:00<00:00,  2.99it/s]\n"
          ]
        },
        {
          "output_type": "stream",
          "name": "stdout",
          "text": [
            "Round 1/5, Device 20/20, Epoch 4/5, Loss: 0.1087\n"
          ]
        },
        {
          "output_type": "stream",
          "name": "stderr",
          "text": [
            "100%|██████████| 1/1 [00:00<00:00,  2.80it/s]\n"
          ]
        },
        {
          "output_type": "stream",
          "name": "stdout",
          "text": [
            "Round 1/5, Device 20/20, Epoch 5/5, Loss: 0.1087\n"
          ]
        },
        {
          "output_type": "stream",
          "name": "stderr",
          "text": [
            "100%|██████████| 1/1 [00:00<00:00,  3.01it/s]\n"
          ]
        },
        {
          "output_type": "stream",
          "name": "stdout",
          "text": [
            "Round 2/5, Device 20/20, Epoch 1/5, Loss: 0.1087\n"
          ]
        },
        {
          "output_type": "stream",
          "name": "stderr",
          "text": [
            "100%|██████████| 1/1 [00:00<00:00,  2.05it/s]\n"
          ]
        },
        {
          "output_type": "stream",
          "name": "stdout",
          "text": [
            "Round 2/5, Device 20/20, Epoch 2/5, Loss: 0.1087\n"
          ]
        },
        {
          "output_type": "stream",
          "name": "stderr",
          "text": [
            "100%|██████████| 1/1 [00:00<00:00,  2.55it/s]\n"
          ]
        },
        {
          "output_type": "stream",
          "name": "stdout",
          "text": [
            "Round 2/5, Device 20/20, Epoch 3/5, Loss: 0.1087\n"
          ]
        },
        {
          "output_type": "stream",
          "name": "stderr",
          "text": [
            "100%|██████████| 1/1 [00:00<00:00,  2.18it/s]\n"
          ]
        },
        {
          "output_type": "stream",
          "name": "stdout",
          "text": [
            "Round 2/5, Device 20/20, Epoch 4/5, Loss: 0.1087\n"
          ]
        },
        {
          "output_type": "stream",
          "name": "stderr",
          "text": [
            "100%|██████████| 1/1 [00:00<00:00,  2.41it/s]\n"
          ]
        },
        {
          "output_type": "stream",
          "name": "stdout",
          "text": [
            "Round 2/5, Device 20/20, Epoch 5/5, Loss: 0.1087\n"
          ]
        },
        {
          "output_type": "stream",
          "name": "stderr",
          "text": [
            "100%|██████████| 1/1 [00:00<00:00,  4.42it/s]\n"
          ]
        },
        {
          "output_type": "stream",
          "name": "stdout",
          "text": [
            "Round 3/5, Device 20/20, Epoch 1/5, Loss: 0.1087\n"
          ]
        },
        {
          "output_type": "stream",
          "name": "stderr",
          "text": [
            "100%|██████████| 1/1 [00:00<00:00,  4.69it/s]\n"
          ]
        },
        {
          "output_type": "stream",
          "name": "stdout",
          "text": [
            "Round 3/5, Device 20/20, Epoch 2/5, Loss: 0.1087\n"
          ]
        },
        {
          "output_type": "stream",
          "name": "stderr",
          "text": [
            "100%|██████████| 1/1 [00:00<00:00,  4.64it/s]\n"
          ]
        },
        {
          "output_type": "stream",
          "name": "stdout",
          "text": [
            "Round 3/5, Device 20/20, Epoch 3/5, Loss: 0.1087\n"
          ]
        },
        {
          "output_type": "stream",
          "name": "stderr",
          "text": [
            "100%|██████████| 1/1 [00:00<00:00,  4.58it/s]\n"
          ]
        },
        {
          "output_type": "stream",
          "name": "stdout",
          "text": [
            "Round 3/5, Device 20/20, Epoch 4/5, Loss: 0.1087\n"
          ]
        },
        {
          "output_type": "stream",
          "name": "stderr",
          "text": [
            "100%|██████████| 1/1 [00:00<00:00,  4.71it/s]\n"
          ]
        },
        {
          "output_type": "stream",
          "name": "stdout",
          "text": [
            "Round 3/5, Device 20/20, Epoch 5/5, Loss: 0.1087\n"
          ]
        },
        {
          "output_type": "stream",
          "name": "stderr",
          "text": [
            "100%|██████████| 1/1 [00:00<00:00,  4.62it/s]\n"
          ]
        },
        {
          "output_type": "stream",
          "name": "stdout",
          "text": [
            "Round 4/5, Device 20/20, Epoch 1/5, Loss: 0.1087\n"
          ]
        },
        {
          "output_type": "stream",
          "name": "stderr",
          "text": [
            "100%|██████████| 1/1 [00:00<00:00,  3.97it/s]\n"
          ]
        },
        {
          "output_type": "stream",
          "name": "stdout",
          "text": [
            "Round 4/5, Device 20/20, Epoch 2/5, Loss: 0.1087\n"
          ]
        },
        {
          "output_type": "stream",
          "name": "stderr",
          "text": [
            "100%|██████████| 1/1 [00:00<00:00,  4.24it/s]\n"
          ]
        },
        {
          "output_type": "stream",
          "name": "stdout",
          "text": [
            "Round 4/5, Device 20/20, Epoch 3/5, Loss: 0.1087\n"
          ]
        },
        {
          "output_type": "stream",
          "name": "stderr",
          "text": [
            "100%|██████████| 1/1 [00:00<00:00,  3.46it/s]\n"
          ]
        },
        {
          "output_type": "stream",
          "name": "stdout",
          "text": [
            "Round 4/5, Device 20/20, Epoch 4/5, Loss: 0.1087\n"
          ]
        },
        {
          "output_type": "stream",
          "name": "stderr",
          "text": [
            "100%|██████████| 1/1 [00:00<00:00,  2.98it/s]\n"
          ]
        },
        {
          "output_type": "stream",
          "name": "stdout",
          "text": [
            "Round 4/5, Device 20/20, Epoch 5/5, Loss: 0.1087\n"
          ]
        },
        {
          "output_type": "stream",
          "name": "stderr",
          "text": [
            "100%|██████████| 1/1 [00:00<00:00,  3.10it/s]\n"
          ]
        },
        {
          "output_type": "stream",
          "name": "stdout",
          "text": [
            "Round 5/5, Device 20/20, Epoch 1/5, Loss: 0.1087\n"
          ]
        },
        {
          "output_type": "stream",
          "name": "stderr",
          "text": [
            "100%|██████████| 1/1 [00:00<00:00,  3.03it/s]\n"
          ]
        },
        {
          "output_type": "stream",
          "name": "stdout",
          "text": [
            "Round 5/5, Device 20/20, Epoch 2/5, Loss: 0.1087\n"
          ]
        },
        {
          "output_type": "stream",
          "name": "stderr",
          "text": [
            "100%|██████████| 1/1 [00:00<00:00,  3.26it/s]\n"
          ]
        },
        {
          "output_type": "stream",
          "name": "stdout",
          "text": [
            "Round 5/5, Device 20/20, Epoch 3/5, Loss: 0.1087\n"
          ]
        },
        {
          "output_type": "stream",
          "name": "stderr",
          "text": [
            "100%|██████████| 1/1 [00:00<00:00,  3.33it/s]\n"
          ]
        },
        {
          "output_type": "stream",
          "name": "stdout",
          "text": [
            "Round 5/5, Device 20/20, Epoch 4/5, Loss: 0.1087\n"
          ]
        },
        {
          "output_type": "stream",
          "name": "stderr",
          "text": [
            "100%|██████████| 1/1 [00:00<00:00,  3.00it/s]"
          ]
        },
        {
          "output_type": "stream",
          "name": "stdout",
          "text": [
            "Round 5/5, Device 20/20, Epoch 5/5, Loss: 0.1087\n"
          ]
        },
        {
          "output_type": "stream",
          "name": "stderr",
          "text": [
            "\n"
          ]
        },
        {
          "output_type": "execute_result",
          "data": {
            "text/plain": [
              "<All keys matched successfully>"
            ]
          },
          "metadata": {},
          "execution_count": 16
        }
      ],
      "source": [
        "# Training Loop\n",
        "num_rounds = 5\n",
        "for round in range(num_rounds):\n",
        "    for iter in range(20):\n",
        "        bat = 0\n",
        "        for client in clients:\n",
        "            if(client.battery > bat):\n",
        "                bat = client.battery\n",
        "                dev = client\n",
        "    dev.battery = dev.battery - 20\n",
        "    temp_dataset = torch.utils.data.Subset(train_dataset, np.random.choice(len(train_dataset), 50, replace=True))\n",
        "    temp_loader = DataLoader(temp_dataset, batch_size=64, shuffle=False)\n",
        "    tmodel = copy.deepcopy(model)\n",
        "    tmodel = tmodel.to(device)\n",
        "    toptimizer = optim.Adam(model.parameters(),lr=0.005)\n",
        "    tcriterion = nn.BCEWithLogitsLoss()\n",
        "    for epoch in range(num_epochs):\n",
        "        tmodel.train()\n",
        "        running_loss = 0.0\n",
        "        for inputs, labels in tqdm(temp_loader):\n",
        "            toptimizer.zero_grad()\n",
        "            inputs = inputs.to(device)\n",
        "            outputs = tmodel(inputs)\n",
        "            labels = labels.to(device)\n",
        "            loss = tcriterion(outputs, labels.float().view(-1, 1))\n",
        "            loss.backward()\n",
        "            toptimizer.step()\n",
        "            running_loss += loss.item()\n",
        "            print(f'Round {round + 1}/{num_rounds}, Device {iter + 1}/20, Epoch {epoch + 1}/{num_epochs}, Loss: {average_loss:.4f}')\n",
        "    tmodel_weights = tmodel.state_dict()\n",
        "    for key in model_weights:\n",
        "        model_weights[key]=model_weights[key]+(tmodel_weights[key]-model_weights[key])/20\n",
        "model.load_state_dict(model_weights)\n"
      ]
    },
    {
      "cell_type": "code",
      "execution_count": 17,
      "metadata": {
        "id": "5G_aBuvXBp3s",
        "colab": {
          "base_uri": "https://localhost:8080/"
        },
        "outputId": "e06038c5-d64e-4ca0-faca-89e7a2eb7942"
      },
      "outputs": [
        {
          "output_type": "stream",
          "name": "stderr",
          "text": [
            "100%|██████████| 7/7 [00:00<00:00, 16.23it/s]"
          ]
        },
        {
          "output_type": "stream",
          "name": "stdout",
          "text": [
            "Test Accuracy: 0.9\n"
          ]
        },
        {
          "output_type": "stream",
          "name": "stderr",
          "text": [
            "\n"
          ]
        }
      ],
      "source": [
        "# Test the models on the test_loader\n",
        "model.eval()\n",
        "correct = 0\n",
        "total = 0\n",
        "with torch.no_grad():\n",
        "    for inputs, labels in tqdm(validation_loader):\n",
        "        inputs = inputs.to(device)\n",
        "        labels = labels.to(device)\n",
        "        outputs = model(inputs)\n",
        "        preds = torch.round(torch.sigmoid(outputs))\n",
        "        total += labels.size(0)\n",
        "        correct += (preds == labels.float().view(-1, 1)).sum().item()\n",
        "    accuracy = correct /  total\n",
        "print(f\"Test Accuracy: {accuracy}\")"
      ]
    }
  ],
  "metadata": {
    "accelerator": "GPU",
    "colab": {
      "provenance": []
    },
    "kernelspec": {
      "display_name": "Python 3",
      "name": "python3"
    },
    "language_info": {
      "name": "python"
    }
  },
  "nbformat": 4,
  "nbformat_minor": 0
}